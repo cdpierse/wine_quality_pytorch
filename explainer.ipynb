{
 "cells": [
  {
   "cell_type": "code",
   "execution_count": 1,
   "metadata": {},
   "outputs": [],
   "source": [
    "from data_model import WineData, WHITE_WINE_PATH\n",
    "from network import run\n",
    "from torch.utils.data import Dataset, DataLoader\n"
   ]
  },
  {
   "cell_type": "code",
   "execution_count": 2,
   "metadata": {},
   "outputs": [
    {
     "name": "stdout",
     "output_type": "stream",
     "text": [
      "tensor([0, 1, 2, 3, 4, 5, 6])\n",
      "tensor([0, 1, 2, 3, 4, 5])\n",
      "number of classs is 7\n",
      "Epoch[50] Loss:[1.11]\n",
      "EVALUATOR: Training Results - Epoch: 50  Avg accuracy: 0.53 Avg loss: 1.1034\n",
      "Epoch[100] Loss:[0.97]\n",
      "EVALUATOR: Training Results - Epoch: 100  Avg accuracy: 0.54 Avg loss: 1.0911\n",
      "Epoch[150] Loss:[1.05]\n",
      "EVALUATOR: Training Results - Epoch: 150  Avg accuracy: 0.54 Avg loss: 1.0844\n",
      "Epoch[200] Loss:[1.25]\n",
      "EVALUATOR: Training Results - Epoch: 200  Avg accuracy: 0.53 Avg loss: 1.0808\n"
     ]
    }
   ],
   "source": [
    "model = run()"
   ]
  },
  {
   "cell_type": "code",
   "execution_count": 3,
   "metadata": {},
   "outputs": [],
   "source": [
    "import shap"
   ]
  },
  {
   "cell_type": "code",
   "execution_count": 4,
   "metadata": {},
   "outputs": [
    {
     "name": "stdout",
     "output_type": "stream",
     "text": [
      "tensor([0, 1, 2, 3, 4, 5, 6])\n",
      "tensor([0, 1, 2, 3, 4, 5])\n"
     ]
    }
   ],
   "source": [
    "data = WineData.read_data(WHITE_WINE_PATH)\n",
    "\n",
    "train_data, test_data = WineData.train_test_splitter(data)\n",
    "\n",
    "wd = WineData(train_data)\n",
    "wd_test = WineData(test_data)\n",
    "\n",
    "# classes = wd.number_of_classes\n",
    "# model = NeuralNet(wd.x_data.shape[1], 200, classes)\n",
    "train_loader = DataLoader(dataset=wd, batch_size=124, shuffle=True, num_workers=0)\n",
    "test_loader = DataLoader(\n",
    "    dataset=wd_test, batch_size=124, shuffle=True, num_workers=0\n",
    ")"
   ]
  },
  {
   "cell_type": "code",
   "execution_count": 5,
   "metadata": {},
   "outputs": [],
   "source": [
    "batch = next(iter(train_loader))\n",
    "inputs, _ = batch\n",
    "\n",
    "background = inputs[:80]\n",
    "test_inputs = inputs[80:]"
   ]
  },
  {
   "cell_type": "code",
   "execution_count": 6,
   "metadata": {},
   "outputs": [],
   "source": [
    "e = shap.DeepExplainer(model, background)"
   ]
  },
  {
   "cell_type": "code",
   "execution_count": null,
   "metadata": {},
   "outputs": [],
   "source": [
    "e.shap_values(background)"
   ]
  },
  {
   "cell_type": "code",
   "execution_count": 12,
   "metadata": {},
   "outputs": [
    {
     "data": {
      "text/plain": [
       "tensor(2.0945, grad_fn=<MaxBackward1>)"
      ]
     },
     "execution_count": 12,
     "metadata": {},
     "output_type": "execute_result"
    }
   ],
   "source": [
    "model(background[0])"
   ]
  },
  {
   "cell_type": "code",
   "execution_count": null,
   "metadata": {},
   "outputs": [],
   "source": []
  }
 ],
 "metadata": {
  "kernelspec": {
   "display_name": "Python 3",
   "language": "python",
   "name": "python3"
  },
  "language_info": {
   "codemirror_mode": {
    "name": "ipython",
    "version": 3
   },
   "file_extension": ".py",
   "mimetype": "text/x-python",
   "name": "python",
   "nbconvert_exporter": "python",
   "pygments_lexer": "ipython3",
   "version": "3.7.4"
  }
 },
 "nbformat": 4,
 "nbformat_minor": 4
}
